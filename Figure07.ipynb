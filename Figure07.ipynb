{
 "cells": [
  {
   "cell_type": "markdown",
   "id": "d1d3eefe",
   "metadata": {},
   "source": [
    "# Figure 7: Stratified Pairs"
   ]
  },
  {
   "cell_type": "markdown",
   "id": "7124d1b7",
   "metadata": {},
   "source": [
    "## Manuscript Information\n",
    " \n",
    "\"Active Mutual Conjoint Estimation of Multiple Contrast Sensitivity\n",
    "Functions\"\n",
    "Dom CP Marticorena, Quinn Wai Wong, Jake Browning, Ken Wilbur, Pinakin Davey, Aaron R. Seitz, Jacob R. Gardner, Dennis L. Barbour\n",
    "_Journal of Vision_\n",
    "\n",
    "[link to paper or preprint]\n",
    "\n",
    "## Lab and Institution Information\n",
    "\n",
    "NeuroMedical Informatics Lab  \n",
    "Washington University in St. Louis\n",
    "\n",
    "## Figure Description\n",
    "\n",
    "Efficiency gain for second-generation conjoint relative to disjoint MLCSF estimation. RMSE evolution\n",
    "analysis as in Figure 6 was conducted for each of the 210 phenotype pairs. For each pair, the conjoint RMSE\n",
    "evolution curve was subtracted from the disjoint curve up to 100 data samples. The integral of the resulting\n",
    "difference curve formed the RMSE difference between the two estimation methods for that pair. These values were\n",
    "plotted against the distance between the phenotypes in ventiles on the left. The red regression line shows a gradual\n",
    "decrease in the efficiency advantage of conjoint estimation for more dissimilar phenotypes. A violin plot\n",
    "summarizing the entire population distribution is shown on the right with median and range indicated by horizontal\n",
    "lines.\n",
    "\n",
    "## References\n",
    "\n",
    "[references]\n"
   ]
  },
  {
   "cell_type": "markdown",
   "id": "08418001",
   "metadata": {},
   "source": [
    "## Imports"
   ]
  },
  {
   "cell_type": "code",
   "execution_count": 1,
   "id": "c2b6c269",
   "metadata": {},
   "outputs": [],
   "source": [
    "# Import libraries\n",
    "import os\n",
    "import sys\n",
    "import torch\n",
    "import gpytorch as gp\n",
    "\n",
    "import math\n",
    "import numpy as np\n",
    "\n",
    "import datetime\n",
    "import json\n",
    "import pickle\n",
    "import tqdm\n",
    "\n",
    "import matplotlib.pyplot as plt\n",
    "import matplotlib.lines as mlines\n",
    "from matplotlib.gridspec import GridSpec\n",
    "import seaborn as sns\n",
    "from scipy import stats\n",
    "\n",
    "# need access to root directory to import utils\n",
    "parent_dir = os.path.dirname(os.path.abspath(''))\n",
    "if parent_dir not in sys.path:\n",
    "    sys.path.append(parent_dir)\n",
    "    \n",
    "from utility.utils import *"
   ]
  },
  {
   "cell_type": "markdown",
   "id": "3f5be841",
   "metadata": {},
   "source": [
    "### Check versions"
   ]
  },
  {
   "cell_type": "code",
   "execution_count": 2,
   "id": "691bbf3e",
   "metadata": {},
   "outputs": [
    {
     "name": "stdout",
     "output_type": "stream",
     "text": [
      "python version -->> 3.10.9 (expected 3.10.9)\n",
      "gpytorch version -->> 1.8.1 (expected 1.8.1)\n",
      "pytorch version -->> 1.13.1 (expected 1.13.1)\n"
     ]
    }
   ],
   "source": [
    "print(\"python version -->>\", sys.version.split(\" \")[0], \"(expected 3.10.9)\")\n",
    "print(\"gpytorch version -->>\", gp.__version__, \"(expected 1.8.1)\")\n",
    "print(\"pytorch version -->>\", torch.__version__, \"(expected 1.13.1)\")"
   ]
  },
  {
   "cell_type": "markdown",
   "id": "530be640",
   "metadata": {},
   "source": [
    "### Run-time flags"
   ]
  },
  {
   "cell_type": "code",
   "execution_count": 3,
   "id": "24234720",
   "metadata": {},
   "outputs": [],
   "source": [
    "scrn_mode = True            # plot on screen?\n",
    "save_plots_mode = True      # save plots to directory?"
   ]
  },
  {
   "cell_type": "markdown",
   "id": "1217aa7e",
   "metadata": {},
   "source": [
    "### Variables"
   ]
  },
  {
   "cell_type": "code",
   "execution_count": 4,
   "id": "1f5e73b4",
   "metadata": {},
   "outputs": [],
   "source": [
    "# get data selection\n",
    "jigo_file = '../data/raw/representative_curves.json'\n",
    "representative_curves = load_json_from_file(jigo_file)\n",
    "all_phenotypes = {\n",
    "    'Quantile 1': representative_curves['quantile1-pid2-cue1-ecc3'],\n",
    "    'Quantile 2': representative_curves['quantile2-pid1-cue1-ecc0'],\n",
    "    'Quantile 3': representative_curves['quantile3-pid2-cue0-ecc2'],\n",
    "    'Quantile 4': representative_curves['quantile4-pid3-cue0-ecc1'],\n",
    "    'Quantile 5': representative_curves['quantile5-pid7-cue1-ecc3'],\n",
    "    'Quantile 6': representative_curves['quantile6-pid0-cue0-ecc0'],\n",
    "    'Quantile 7': representative_curves['quantile7-pid0-cue1-ecc0'],\n",
    "    'Quantile 8': representative_curves['quantile8-pid1-cue1-ecc3'],\n",
    "    'Quantile 9': representative_curves['quantile9-pid5-cue1-ecc0'],\n",
    "    'Quantile 10': representative_curves['quantile10-pid8-cue0-ecc3'],\n",
    "    'Quantile 11': representative_curves['quantile11-pid5-cue0-ecc1'],\n",
    "    'Quantile 12': representative_curves['quantile12-pid8-cue1-ecc2'],\n",
    "    'Quantile 13': representative_curves['quantile13-pid4-cue0-ecc1'],\n",
    "    'Quantile 14': representative_curves['quantile14-pid7-cue0-ecc1'],\n",
    "    'Quantile 15': representative_curves['quantile15-pid3-cue1-ecc2'],\n",
    "    'Quantile 16': representative_curves['quantile16-pid0-cue0-ecc1'],\n",
    "    'Quantile 17': representative_curves['quantile17-pid8-cue1-ecc0'],\n",
    "    'Quantile 18': representative_curves['quantile18-pid8-cue0-ecc1'],\n",
    "    'Quantile 19': representative_curves['quantile19-pid0-cue1-ecc1'],\n",
    "    'Quantile 20': representative_curves['quantile20-pid4-cue0-ecc2']\n",
    "}\n",
    "\n",
    "# tasks and number of latents\n",
    "num_latents = 2\n",
    "\n",
    "# fixed unless something nutso happens\n",
    "num_tasks = num_latents\n",
    "\n",
    "# directory to save plots and results\n",
    "# will save to the path <save_dir_prefix>/<current_timestamp>\n",
    "save_dir_prefix = 'analysis/Figure07'"
   ]
  },
  {
   "cell_type": "markdown",
   "id": "0cf1018f",
   "metadata": {},
   "source": [
    "### Timestamp"
   ]
  },
  {
   "cell_type": "code",
   "execution_count": 5,
   "id": "66e3d05c",
   "metadata": {},
   "outputs": [
    {
     "name": "stdout",
     "output_type": "stream",
     "text": [
      "Saving to... analysis/Figure07/2024-03-13_21-15-19/\n"
     ]
    }
   ],
   "source": [
    "# get current timestamp\n",
    "timestamp = datetime.datetime.now().strftime(\"%Y-%m-%d_%H-%M-%S\")\n",
    "save_dir = f\"{save_dir_prefix}/{timestamp}/\"\n",
    "ensure_directory_exists(save_dir)\n",
    "print(f\"Saving to... {save_dir}\")"
   ]
  },
  {
   "cell_type": "markdown",
   "id": "80d44f09",
   "metadata": {},
   "source": [
    "## Load data"
   ]
  },
  {
   "cell_type": "code",
   "execution_count": 6,
   "id": "19930a2c",
   "metadata": {},
   "outputs": [],
   "source": [
    "# load data\n",
    "\n",
    "load_dir = \"D:/Repos/delete_me/Figure06/\"\n",
    "\n",
    "with open(f'{load_dir}disjoint_results.pkl', 'rb') as file:\n",
    "    disjoint_results_dicts = pickle.load(file)\n",
    "\n",
    "with open(f'{load_dir}conjoint_results.pkl', 'rb') as file:\n",
    "    conjoint_results_dicts = pickle.load(file)"
   ]
  },
  {
   "cell_type": "markdown",
   "id": "51387854",
   "metadata": {},
   "source": [
    "## Create violin plots"
   ]
  },
  {
   "cell_type": "markdown",
   "id": "b2cb9780",
   "metadata": {},
   "source": [
    "### Formatting variables"
   ]
  },
  {
   "cell_type": "code",
   "execution_count": 7,
   "id": "033ea62b",
   "metadata": {},
   "outputs": [],
   "source": [
    "col_ratios = [3,1]\n",
    "\n",
    "figure_width = 6.5  # inches\n",
    "figure_height = figure_width / 2  # inches\n",
    "\n",
    "dpi_val = 600              # graphics resolution\n",
    "plt.rcParams['font.family'] = 'sans-serif'\n",
    "\n",
    "\n",
    "tick_font_size = 8\n",
    "label_font_size = 10\n",
    "title_font_size = 12\n",
    "\n",
    "left_title = 'RMSE Differences by Ventile Distance'\n",
    "left_x_label = 'Distance Between Ventiles'\n",
    "left_y_label = 'RMSE Differences'\n",
    "\n",
    "right_title = 'Summary of RMSE Differences'\n",
    "right_x_label = 'All Pairs'\n",
    "right_y_label = 'RMSE Difference Density'\n",
    "\n",
    "scatter_size = 20\n",
    "\n",
    "filename = 'Figure07_StratifiedPairs.png'\n"
   ]
  },
  {
   "cell_type": "markdown",
   "id": "01c98132",
   "metadata": {},
   "source": [
    "### Plotting"
   ]
  },
  {
   "cell_type": "code",
   "execution_count": 8,
   "id": "5927e1bb",
   "metadata": {},
   "outputs": [
    {
     "name": "stdout",
     "output_type": "stream",
     "text": [
      "p-value: 0.001644425335584241\n",
      "Correlation coefficient (r): -0.21594649797627516\n",
      " slope: -0.0021548540049771184\n",
      " intercept: 0.03319446660684465\n",
      "Linear regression summary (n=210, df=208): p-value=0.0016, r=-0.216, intercept=0.0332, slope=-0.0022, CI for slope=(-0.0035, -0.0008), t-statistic=-3.190\n"
     ]
    },
    {
     "data": {
      "image/png": "[encoded data removed]",
      "text/plain": [
       "<Figure size 650x325 with 2 Axes>"
      ]
     },
     "metadata": {},
     "output_type": "display_data"
    },
    {
     "data": {
      "text/plain": [
       "<Figure size 640x480 with 0 Axes>"
      ]
     },
     "metadata": {},
     "output_type": "display_data"
    }
   ],
   "source": [
    "\n",
    "num_pairs = len(conjoint_results_dicts.keys())\n",
    "\n",
    "# Initialize a list to store the differences\n",
    "rmse_differences = []\n",
    "\n",
    "# Calculating and storing the differences\n",
    "for pair_idx in range(num_pairs):\n",
    "    for task_idx in range(num_tasks):\n",
    "        disjoint_rmse_list = np.repeat(disjoint_results_dicts[task_idx][pair_idx]['rmse_list'], num_tasks)\n",
    "        conjoint_rmse_list = conjoint_results_dicts[pair_idx]['rmse_list'][task_idx]\n",
    "        difference = disjoint_rmse_list - conjoint_rmse_list\n",
    "        rmse_differences.append(difference)\n",
    "        \n",
    "        \n",
    "all_phenotypes_keys = list(all_phenotypes.keys())  # Getting all the keys from your dictionary\n",
    "\n",
    "# Using itertools to get all unique combinations of length 2 (pairs)\n",
    "phenotype_pairs = itertools.combinations_with_replacement(all_phenotypes_keys, 2)\n",
    "\n",
    "# Initialize a list to store pairs with their corresponding RMSE differences\n",
    "paired_rmse_differences = []\n",
    "\n",
    "# Iterate over the phenotype pairs and RMSE differences\n",
    "for pair, rmse_diff in zip(phenotype_pairs, rmse_differences):\n",
    "    # Appending the RMSE difference to its corresponding pair\n",
    "    paired_rmse_differences.append((pair, rmse_diff))\n",
    "\n",
    "fig, axs = plt.subplots(nrows=1, ncols=2, figsize=(figure_width, figure_height),\n",
    "                        gridspec_kw={'width_ratios': col_ratios})\n",
    "\n",
    "ax1 = axs[0]\n",
    "ax2 = axs[1]\n",
    "\n",
    "# Initialize a dictionary to store RMSE differences aggregated by Quantile distance\n",
    "rmse_diff_by_distance = {}\n",
    "\n",
    "# Calculate RMSE differences and aggregate by distance\n",
    "for pair, rmse_diff in paired_rmse_differences:\n",
    "    q1, q2 = [int(q.split()[-1]) for q in pair]\n",
    "    distance = abs(q1 - q2)\n",
    "    if distance not in rmse_diff_by_distance:\n",
    "        rmse_diff_by_distance[distance] = []\n",
    "    rmse_diff_by_distance[distance].append(np.mean(rmse_diff))\n",
    "\n",
    "# Prepare data for the scatter plot\n",
    "x_scatter = []\n",
    "y_scatter = []\n",
    "for distance, diffs in rmse_diff_by_distance.items():\n",
    "    x_scatter.extend([distance] * len(diffs))\n",
    "    y_scatter.extend(diffs)\n",
    "\n",
    "# Fitting a linear regression line\n",
    "slope, intercept, r_value, p_value, std_err = stats.linregress(x_scatter, y_scatter)\n",
    "\n",
    "# Prepare data for the summary violin plot\n",
    "all_rmse_diffs = [np.mean(diff) for _, diff in paired_rmse_differences]\n",
    "\n",
    "# Panel 1: Scatter Plots by Distance with Line of Best Fit\n",
    "ax1.scatter(x_scatter, y_scatter, alpha=0.8, s=scatter_size, zorder=10)  # alpha for transparency\n",
    "ax1.plot(x_scatter, slope * np.array(x_scatter) + intercept, color='red', zorder=11)  # Plotting the linear regression line\n",
    "ax1.set_title(left_title, fontsize=title_font_size)\n",
    "ax1.set_xlabel(left_x_label, fontsize=label_font_size)\n",
    "ax1.set_ylabel(left_y_label, fontsize=label_font_size)\n",
    "ax1.set_xticks(np.arange(0, max(x_scatter) + 1))\n",
    "ax1.tick_params(axis='both', labelsize=tick_font_size)\n",
    "ax1.grid(True)\n",
    "\n",
    "# Panel 2: Summary Violin Plot for All Pairs\n",
    "ax2.violinplot(all_rmse_diffs, showmeans=False, showmedians=True)\n",
    "# ax2.set_title(right_title, fontsize=title_font_size)\n",
    "ax2.set_xlabel(right_x_label, fontsize=label_font_size)\n",
    "# put a single tick in the middle\n",
    "ax2.set_xticks([1])\n",
    "ax2.set_xticklabels([''])\n",
    "\n",
    "ax2.set_ylabel(right_y_label, fontsize=label_font_size)\n",
    "ax2.tick_params(axis='both', labelsize=tick_font_size)\n",
    "# ax2.grid(axis='y')\n",
    "\n",
    "# Print p-value and r-value\n",
    "print(f\"p-value: {p_value}\")\n",
    "print(f\"Correlation coefficient (r): {r_value}\")\n",
    "print(f\" slope: {slope}\")\n",
    "print(f\" intercept: {intercept}\")\n",
    "\n",
    "# Calculate the number of samples\n",
    "n = len(x_scatter)\n",
    "\n",
    "# Degrees of freedom: n - 2 for linear regression\n",
    "df = n - 2\n",
    "\n",
    "# Calculate the t-statistic for the slope (slope/std_err)\n",
    "t_statistic = slope / std_err\n",
    "\n",
    "# Calculate the confidence interval for the slope\n",
    "# The standard way to calculate a 95% CI is to use the t-distribution with df and the standard error of the estimate\n",
    "alpha = 0.05  # for 95% CI\n",
    "t_critical = stats.t.ppf(1 - alpha/2, df)  # two-tailed inverse of CDF\n",
    "margin_of_error = t_critical * std_err\n",
    "lower_bound = slope - margin_of_error\n",
    "upper_bound = slope + margin_of_error\n",
    "\n",
    "# Print summary including p-value, r-value, t-statistic, CI for the slope, df, and n\n",
    "print(f\"Linear regression summary (n={n}, df={df}): p-value={p_value:.4f}, r={r_value:.3f}, intercept={intercept:.4f}, slope={slope:.4f}, CI for slope=({lower_bound:.4f}, {upper_bound:.4f}), t-statistic={t_statistic:.3f}\")\n",
    "\n",
    "# plt.tight_layout()\n",
    "\n",
    "if save_plots_mode:\n",
    "    plt.savefig(f\"{save_dir}{filename}\", dpi=dpi_val)\n",
    "    plt.savefig(f\"{save_dir}{filename}.pdf\", dpi=dpi_val)\n",
    "if scrn_mode:\n",
    "    plt.show()\n",
    "plt.clf()"
   ]
  }
 ],
 "metadata": {
  "kernelspec": {
   "display_name": "Python 3 (ipykernel)",
   "language": "python",
   "name": "python3"
  },
  "language_info": {
   "codemirror_mode": {
    "name": "ipython",
    "version": 3
   },
   "file_extension": ".py",
   "mimetype": "text/x-python",
   "name": "python",
   "nbconvert_exporter": "python",
   "pygments_lexer": "ipython3",
   "version": "3.10.9"
  }
 },
 "nbformat": 4,
 "nbformat_minor": 5
}
